{
  "metadata": {
    "language_info": {
      "codemirror_mode": {
        "name": "python",
        "version": 3
      },
      "file_extension": ".py",
      "mimetype": "text/x-python",
      "name": "python",
      "nbconvert_exporter": "python",
      "pygments_lexer": "ipython3",
      "version": "3.8"
    },
    "kernelspec": {
      "name": "python",
      "display_name": "Python (Pyodide)",
      "language": "python"
    }
  },
  "nbformat_minor": 4,
  "nbformat": 4,
  "cells": [
    {
      "cell_type": "markdown",
      "source": "## Exercice2",
      "metadata": {}
    },
    {
      "cell_type": "markdown",
      "source": "#  Data Science Tools and Ecosystem",
      "metadata": {}
    },
    {
      "cell_type": "markdown",
      "source": "## Exercice3",
      "metadata": {}
    },
    {
      "cell_type": "markdown",
      "source": "In this notebook, Data Science Tools and Ecosystem are summarized",
      "metadata": {}
    },
    {
      "cell_type": "markdown",
      "source": "## Exercice4",
      "metadata": {}
    },
    {
      "cell_type": "markdown",
      "source": " Some of the popular languages that Data Scientists use are:\n1. python\n2. R\n3. scala",
      "metadata": {}
    },
    {
      "cell_type": "markdown",
      "source": "## Exercice5",
      "metadata": {}
    },
    {
      "cell_type": "markdown",
      "source": "Some of the commonly used libraries used by Data Scientists include:\n1. Tensorflow\n2. Keras\n3. Sckit learn\n\n",
      "metadata": {}
    },
    {
      "cell_type": "markdown",
      "source": "## Exercice6",
      "metadata": {}
    },
    {
      "cell_type": "markdown",
      "source": "|Data Science Tools  |\n|--------------------|\n|R Studio            |\n|IBM Waston Studio   |     |\n|Apache SparkSQL     |\n\n",
      "metadata": {}
    },
    {
      "cell_type": "markdown",
      "source": "## Exercie7",
      "metadata": {}
    },
    {
      "cell_type": "markdown",
      "source": "### Below are a few examples of evaluating arithmetic expressions in Python\n",
      "metadata": {}
    },
    {
      "cell_type": "markdown",
      "source": "## Exercie8",
      "metadata": {}
    },
    {
      "cell_type": "code",
      "source": "# This a simple arithmetic expression to mutiply then add integers\n(3*4)+5",
      "metadata": {
        "trusted": true
      },
      "execution_count": 7,
      "outputs": [
        {
          "execution_count": 7,
          "output_type": "execute_result",
          "data": {
            "text/plain": "17"
          },
          "metadata": {}
        }
      ]
    },
    {
      "cell_type": "markdown",
      "source": "## Exercice9",
      "metadata": {}
    },
    {
      "cell_type": "code",
      "source": "#  This will convert 200 minutes to hours by diving by 60\n200/60",
      "metadata": {
        "trusted": true
      },
      "execution_count": 8,
      "outputs": [
        {
          "execution_count": 8,
          "output_type": "execute_result",
          "data": {
            "text/plain": "3.3333333333333335"
          },
          "metadata": {}
        }
      ]
    },
    {
      "cell_type": "markdown",
      "source": "## Exercice10",
      "metadata": {}
    },
    {
      "cell_type": "markdown",
      "source": "**Objectives:**\nList popular languages for Data Science :\n- Titres\n- Listes\n- Tableaux\n",
      "metadata": {}
    },
    {
      "cell_type": "markdown",
      "source": "## Exercice11",
      "metadata": {}
    },
    {
      "cell_type": "markdown",
      "source": "|Author   |\n|---------|\n|Hamady   |",
      "metadata": {}
    },
    {
      "cell_type": "markdown",
      "source": "## Exercice12",
      "metadata": {}
    },
    {
      "cell_type": "code",
      "source": "",
      "metadata": {},
      "execution_count": null,
      "outputs": []
    }
  ]
}